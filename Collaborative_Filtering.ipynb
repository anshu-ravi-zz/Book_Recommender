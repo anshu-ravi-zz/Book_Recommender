{
 "cells": [
  {
   "cell_type": "code",
   "execution_count": 243,
   "id": "b655df7e",
   "metadata": {},
   "outputs": [],
   "source": [
    "import pandas as pd\n",
    "import numpy as np \n",
    "from surprise import Dataset, Reader, accuracy\n",
    "from surprise.prediction_algorithms import knns, matrix_factorization, slope_one, co_clustering\n",
    "from surprise.model_selection import train_test_split, split, cross_validate, GridSearchCV"
   ]
  },
  {
   "cell_type": "code",
   "execution_count": 139,
   "id": "f7648a8b",
   "metadata": {},
   "outputs": [
    {
     "name": "stderr",
     "output_type": "stream",
     "text": [
      "/Users/omar/opt/anaconda3/envs/AI_ML/lib/python3.9/site-packages/IPython/core/interactiveshell.py:3441: DtypeWarning: Columns (3) have mixed types.Specify dtype option on import or set low_memory=False.\n",
      "  exec(code_obj, self.user_global_ns, self.user_ns)\n"
     ]
    }
   ],
   "source": [
    "user_cols = ['user_id', 'location', 'age']\n",
    "books_cols = ['isbn', 'book_title' ,'book_author','year_of_publication', 'publisher', 'img_s ', 'img_m', 'img_l']\n",
    "ratings_cols = ['user_id', 'isbn', 'rating']\n",
    "\n",
    "users = pd.read_csv('data/BX-Users.csv', sep=';', encoding='latin-1', names = user_cols, skiprows=1)\n",
    "books = pd.read_csv('data/BX-Books.csv', sep=';', encoding='latin-1', names = books_cols, skiprows=1, on_bad_lines='skip')\n",
    "ratings = pd.read_csv('data/BX-Book-Ratings.csv', sep=';', encoding='latin-1', names = ratings_cols, skiprows=1)"
   ]
  },
  {
   "cell_type": "code",
   "execution_count": 141,
   "id": "7f8301bb",
   "metadata": {},
   "outputs": [
    {
     "name": "stderr",
     "output_type": "stream",
     "text": [
      "/var/folders/zp/h9zt3y1s3nb664kbw9s0vcp80000gn/T/ipykernel_31033/2447883892.py:1: FutureWarning: Using a non-tuple sequence for multidimensional indexing is deprecated; use `arr[tuple(seq)]` instead of `arr[seq]`. In the future this will be interpreted as an array index, `arr[np.array(seq)]`, which will result either in an error or a different result.\n",
      "  books_threshold = book_ids[[np.where(book_counts >= 5)[0]]]\n"
     ]
    }
   ],
   "source": [
    "# Filtering books with at least 5 ratings\n",
    "book_ids, book_counts = np.unique(ratings.isbn, return_counts=True)\n",
    "books_threshold = book_ids[[np.where(book_counts >= 5)[0]]]\n",
    "new_ratings = ratings[ratings.isbn.isin(books_threshold)]"
   ]
  },
  {
   "cell_type": "code",
   "execution_count": 143,
   "id": "250c838a",
   "metadata": {},
   "outputs": [
    {
     "name": "stderr",
     "output_type": "stream",
     "text": [
      "/var/folders/zp/h9zt3y1s3nb664kbw9s0vcp80000gn/T/ipykernel_31033/675653206.py:1: FutureWarning: Using a non-tuple sequence for multidimensional indexing is deprecated; use `arr[tuple(seq)]` instead of `arr[seq]`. In the future this will be interpreted as an array index, `arr[np.array(seq)]`, which will result either in an error or a different result.\n",
      "  users_threshold = user_ids[[np.where(user_counts >= 5)[0]]]\n"
     ]
    }
   ],
   "source": [
    "# Filtering users with at least 5 ratings\n",
    "user_ids, user_counts = np.unique(new_ratings.user_id, return_counts=True)\n",
    "users_threshold = user_ids[[np.where(user_counts >= 5)[0]]]\n",
    "new_ratings = new_ratings[new_ratings.user_id.isin(users_threshold)]"
   ]
  },
  {
   "cell_type": "code",
   "execution_count": 266,
   "id": "6d891fe1",
   "metadata": {},
   "outputs": [],
   "source": [
    "# Filtering books with at most 15 zero ratings\n",
    "zero_ratings = new_ratings.iloc[np.where(new_ratings.rating == 0)[0], :]\n",
    "zero_book_ids, zero_book_counts = np.unique(zero_ratings.isbn, return_counts=True)\n",
    "new_book_ids = zero_book_ids[np.where(zero_book_counts <= 15)[0]]\n",
    "new_rates = new_ratings[new_ratings.isbn.isin(new_book_ids)]"
   ]
  },
  {
   "cell_type": "code",
   "execution_count": 274,
   "id": "4b2d64f6",
   "metadata": {},
   "outputs": [
    {
     "data": {
      "text/plain": [
       "(1149780, 607651, 315145)"
      ]
     },
     "execution_count": 274,
     "metadata": {},
     "output_type": "execute_result"
    }
   ],
   "source": [
    "len(ratings), len(new_ratings), len(new_rates)"
   ]
  },
  {
   "cell_type": "code",
   "execution_count": 268,
   "id": "6b14ac4d",
   "metadata": {},
   "outputs": [
    {
     "data": {
      "text/plain": [
       "(array([ 0,  1,  2,  3,  4,  5,  6,  7,  8,  9, 10]),\n",
       " array([208399,    376,    617,   1302,   2035,  11612,   8747,  18608,\n",
       "         26081,  17557,  19811]))"
      ]
     },
     "execution_count": 268,
     "metadata": {},
     "output_type": "execute_result"
    }
   ],
   "source": [
    "np.unique(new_rates.rating, return_counts=True)"
   ]
  },
  {
   "cell_type": "code",
   "execution_count": 269,
   "id": "6f14cd60",
   "metadata": {},
   "outputs": [],
   "source": [
    "# Transforming the data into surprise library format\n",
    "reader = Reader(rating_scale=(0,10))\n",
    "data = Dataset.load_from_df(new_rates, reader)\n",
    "train, test = train_test_split(data, test_size=.3, random_state=42)"
   ]
  },
  {
   "cell_type": "code",
   "execution_count": 270,
   "id": "41c8456c",
   "metadata": {},
   "outputs": [
    {
     "name": "stdout",
     "output_type": "stream",
     "text": [
      "CPU times: user 16.1 s, sys: 161 ms, total: 16.2 s\n",
      "Wall time: 16.3 s\n"
     ]
    }
   ],
   "source": [
    "# Training SVD model\n",
    "%%time\n",
    "model = matrix_factorization.SVD()\n",
    "model.fit(train)\n",
    "predictions = model.test(test)"
   ]
  },
  {
   "cell_type": "code",
   "execution_count": 279,
   "id": "f5c27820",
   "metadata": {},
   "outputs": [
    {
     "data": {
      "text/html": [
       "<div>\n",
       "<style scoped>\n",
       "    .dataframe tbody tr th:only-of-type {\n",
       "        vertical-align: middle;\n",
       "    }\n",
       "\n",
       "    .dataframe tbody tr th {\n",
       "        vertical-align: top;\n",
       "    }\n",
       "\n",
       "    .dataframe thead th {\n",
       "        text-align: right;\n",
       "    }\n",
       "</style>\n",
       "<table border=\"1\" class=\"dataframe\">\n",
       "  <thead>\n",
       "    <tr style=\"text-align: right;\">\n",
       "      <th></th>\n",
       "      <th>user_id</th>\n",
       "      <th>isbn</th>\n",
       "      <th>actual_rating</th>\n",
       "      <th>predicted_rating</th>\n",
       "      <th>error</th>\n",
       "    </tr>\n",
       "  </thead>\n",
       "  <tbody>\n",
       "    <tr>\n",
       "      <th>0</th>\n",
       "      <td>274612</td>\n",
       "      <td>0520055977</td>\n",
       "      <td>0.0</td>\n",
       "      <td>3.128353</td>\n",
       "      <td>3.128353</td>\n",
       "    </tr>\n",
       "    <tr>\n",
       "      <th>1</th>\n",
       "      <td>190925</td>\n",
       "      <td>0061013463</td>\n",
       "      <td>0.0</td>\n",
       "      <td>0.518666</td>\n",
       "      <td>0.518666</td>\n",
       "    </tr>\n",
       "    <tr>\n",
       "      <th>2</th>\n",
       "      <td>69389</td>\n",
       "      <td>0375501525</td>\n",
       "      <td>5.0</td>\n",
       "      <td>5.318280</td>\n",
       "      <td>0.318280</td>\n",
       "    </tr>\n",
       "    <tr>\n",
       "      <th>3</th>\n",
       "      <td>211426</td>\n",
       "      <td>0385314256</td>\n",
       "      <td>0.0</td>\n",
       "      <td>0.954207</td>\n",
       "      <td>0.954207</td>\n",
       "    </tr>\n",
       "    <tr>\n",
       "      <th>4</th>\n",
       "      <td>11676</td>\n",
       "      <td>044023462X</td>\n",
       "      <td>7.0</td>\n",
       "      <td>2.253519</td>\n",
       "      <td>4.746481</td>\n",
       "    </tr>\n",
       "    <tr>\n",
       "      <th>5</th>\n",
       "      <td>211426</td>\n",
       "      <td>0451517563</td>\n",
       "      <td>0.0</td>\n",
       "      <td>0.896196</td>\n",
       "      <td>0.896196</td>\n",
       "    </tr>\n",
       "    <tr>\n",
       "      <th>6</th>\n",
       "      <td>104636</td>\n",
       "      <td>0061076058</td>\n",
       "      <td>6.0</td>\n",
       "      <td>2.471887</td>\n",
       "      <td>3.528113</td>\n",
       "    </tr>\n",
       "    <tr>\n",
       "      <th>7</th>\n",
       "      <td>169663</td>\n",
       "      <td>0553803077</td>\n",
       "      <td>7.0</td>\n",
       "      <td>2.459393</td>\n",
       "      <td>4.540607</td>\n",
       "    </tr>\n",
       "    <tr>\n",
       "      <th>8</th>\n",
       "      <td>222391</td>\n",
       "      <td>0140177043</td>\n",
       "      <td>0.0</td>\n",
       "      <td>2.901437</td>\n",
       "      <td>2.901437</td>\n",
       "    </tr>\n",
       "    <tr>\n",
       "      <th>9</th>\n",
       "      <td>94951</td>\n",
       "      <td>0553258397</td>\n",
       "      <td>7.0</td>\n",
       "      <td>6.911105</td>\n",
       "      <td>0.088895</td>\n",
       "    </tr>\n",
       "  </tbody>\n",
       "</table>\n",
       "</div>"
      ],
      "text/plain": [
       "   user_id        isbn  actual_rating  predicted_rating     error\n",
       "0   274612  0520055977            0.0          3.128353  3.128353\n",
       "1   190925  0061013463            0.0          0.518666  0.518666\n",
       "2    69389  0375501525            5.0          5.318280  0.318280\n",
       "3   211426  0385314256            0.0          0.954207  0.954207\n",
       "4    11676  044023462X            7.0          2.253519  4.746481\n",
       "5   211426  0451517563            0.0          0.896196  0.896196\n",
       "6   104636  0061076058            6.0          2.471887  3.528113\n",
       "7   169663  0553803077            7.0          2.459393  4.540607\n",
       "8   222391  0140177043            0.0          2.901437  2.901437\n",
       "9    94951  0553258397            7.0          6.911105  0.088895"
      ]
     },
     "execution_count": 279,
     "metadata": {},
     "output_type": "execute_result"
    }
   ],
   "source": [
    "result = pd.DataFrame(predictions, columns=['user_id', 'isbn', 'actual_rating', 'predicted_rating', 'details'])\n",
    "result.drop(columns = ['details'], inplace = True)\n",
    "result['error'] = abs(result['actual_rating'] - result['predicted_rating'])\n",
    "result.head(10)"
   ]
  },
  {
   "cell_type": "code",
   "execution_count": 280,
   "id": "50e070c4",
   "metadata": {},
   "outputs": [
    {
     "name": "stdout",
     "output_type": "stream",
     "text": [
      "MSE: 11.6464\n",
      "RMSE: 3.4127\n",
      "MAE:  2.7417\n"
     ]
    }
   ],
   "source": [
    "# Test accuracy\n",
    "mse = accuracy.mse(predictions)\n",
    "rmse = accuracy.rmse(predictions)\n",
    "mae = accuracy.mae(predictions)"
   ]
  },
  {
   "cell_type": "code",
   "execution_count": 273,
   "id": "e0407b94",
   "metadata": {},
   "outputs": [
    {
     "name": "stdout",
     "output_type": "stream",
     "text": [
      "MSE: 11.613279993570558\n",
      "RMSE: 3.407804137344486\n",
      "MAE: 2.7305219080447265\n",
      "CPU times: user 1min 33s, sys: 518 ms, total: 1min 34s\n",
      "Wall time: 1min 34s\n"
     ]
    }
   ],
   "source": [
    "# Cross Validation SVD model\n",
    "%%time\n",
    "kfold = split.KFold(n_splits=5, random_state=42)\n",
    "cross_val = pd.DataFrame(cross_validate(model, data, cv=kfold, measures=['mse', 'rmse', 'mae']))\n",
    "print(f'MSE: {np.mean(cross_val.test_mse)}\\nRMSE: {np.mean(cross_val.test_rmse)}\\nMAE: {np.mean(cross_val.test_mae)}')"
   ]
  },
  {
   "cell_type": "code",
   "execution_count": 278,
   "id": "a25d7d22",
   "metadata": {},
   "outputs": [
    {
     "data": {
      "text/html": [
       "<div>\n",
       "<style scoped>\n",
       "    .dataframe tbody tr th:only-of-type {\n",
       "        vertical-align: middle;\n",
       "    }\n",
       "\n",
       "    .dataframe tbody tr th {\n",
       "        vertical-align: top;\n",
       "    }\n",
       "\n",
       "    .dataframe thead th {\n",
       "        text-align: right;\n",
       "    }\n",
       "</style>\n",
       "<table border=\"1\" class=\"dataframe\">\n",
       "  <thead>\n",
       "    <tr style=\"text-align: right;\">\n",
       "      <th></th>\n",
       "      <th>test_mse</th>\n",
       "      <th>test_rmse</th>\n",
       "      <th>test_mae</th>\n",
       "      <th>fit_time</th>\n",
       "      <th>test_time</th>\n",
       "    </tr>\n",
       "  </thead>\n",
       "  <tbody>\n",
       "    <tr>\n",
       "      <th>2</th>\n",
       "      <td>11.536406</td>\n",
       "      <td>3.396529</td>\n",
       "      <td>2.720484</td>\n",
       "      <td>17.419217</td>\n",
       "      <td>0.585211</td>\n",
       "    </tr>\n",
       "    <tr>\n",
       "      <th>4</th>\n",
       "      <td>11.588397</td>\n",
       "      <td>3.404173</td>\n",
       "      <td>2.724664</td>\n",
       "      <td>17.394250</td>\n",
       "      <td>0.551467</td>\n",
       "    </tr>\n",
       "    <tr>\n",
       "      <th>1</th>\n",
       "      <td>11.559530</td>\n",
       "      <td>3.399931</td>\n",
       "      <td>2.724938</td>\n",
       "      <td>16.828343</td>\n",
       "      <td>0.564935</td>\n",
       "    </tr>\n",
       "    <tr>\n",
       "      <th>0</th>\n",
       "      <td>11.608262</td>\n",
       "      <td>3.407090</td>\n",
       "      <td>2.732673</td>\n",
       "      <td>17.071027</td>\n",
       "      <td>0.584009</td>\n",
       "    </tr>\n",
       "    <tr>\n",
       "      <th>3</th>\n",
       "      <td>11.773805</td>\n",
       "      <td>3.431298</td>\n",
       "      <td>2.749851</td>\n",
       "      <td>17.227872</td>\n",
       "      <td>0.555096</td>\n",
       "    </tr>\n",
       "  </tbody>\n",
       "</table>\n",
       "</div>"
      ],
      "text/plain": [
       "    test_mse  test_rmse  test_mae   fit_time  test_time\n",
       "2  11.536406   3.396529  2.720484  17.419217   0.585211\n",
       "4  11.588397   3.404173  2.724664  17.394250   0.551467\n",
       "1  11.559530   3.399931  2.724938  16.828343   0.564935\n",
       "0  11.608262   3.407090  2.732673  17.071027   0.584009\n",
       "3  11.773805   3.431298  2.749851  17.227872   0.555096"
      ]
     },
     "execution_count": 278,
     "metadata": {},
     "output_type": "execute_result"
    }
   ],
   "source": [
    "cross_val.sort_values(['test_mae'])"
   ]
  },
  {
   "cell_type": "code",
   "execution_count": 275,
   "id": "f10c5c02",
   "metadata": {},
   "outputs": [
    {
     "data": {
      "text/plain": [
       "<AxesSubplot:>"
      ]
     },
     "execution_count": 275,
     "metadata": {},
     "output_type": "execute_result"
    },
    {
     "data": {
      "image/png": "[encoded data removed]",
      "text/plain": [
       "<Figure size 720x360 with 1 Axes>"
      ]
     },
     "metadata": {
      "needs_background": "light"
     },
     "output_type": "display_data"
    }
   ],
   "source": [
    "result['actual_rating'].hist(bins=10, figsize=(10,5))"
   ]
  },
  {
   "cell_type": "code",
   "execution_count": 276,
   "id": "d03f2d28",
   "metadata": {},
   "outputs": [
    {
     "data": {
      "text/plain": [
       "<AxesSubplot:>"
      ]
     },
     "execution_count": 276,
     "metadata": {},
     "output_type": "execute_result"
    },
    {
     "data": {
      "image/png": "[encoded data removed]",
      "text/plain": [
       "<Figure size 720x360 with 1 Axes>"
      ]
     },
     "metadata": {
      "needs_background": "light"
     },
     "output_type": "display_data"
    }
   ],
   "source": [
    "result['predicted_rating'].hist(bins=10, figsize=(10,5))"
   ]
  },
  {
   "cell_type": "code",
   "execution_count": null,
   "id": "bd6da4da",
   "metadata": {},
   "outputs": [],
   "source": []
  }
 ],
 "metadata": {
  "kernelspec": {
   "display_name": "Python 3 (ipykernel)",
   "language": "python",
   "name": "python3"
  },
  "language_info": {
   "codemirror_mode": {
    "name": "ipython",
    "version": 3
   },
   "file_extension": ".py",
   "mimetype": "text/x-python",
   "name": "python",
   "nbconvert_exporter": "python",
   "pygments_lexer": "ipython3",
   "version": "3.9.6"
  }
 },
 "nbformat": 4,
 "nbformat_minor": 5
}
